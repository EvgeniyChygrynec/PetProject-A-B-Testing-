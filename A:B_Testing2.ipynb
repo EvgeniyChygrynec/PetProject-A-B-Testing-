{
 "cells": [
  {
   "cell_type": "code",
   "execution_count": 220,
   "id": "d524692f",
   "metadata": {},
   "outputs": [],
   "source": [
    "import pandas as pd\n",
    "import numpy as np\n",
    "import seaborn as sns\n",
    "import matplotlib.pyplot as plt\n",
    "import scipy.stats as stats\n",
    "\n",
    "%matplotlib inline\n",
    "palette=\"pastel\"\n",
    "sns.set(rc={'figure.figsize':(7, 5)})"
   ]
  },
  {
   "cell_type": "code",
   "execution_count": 221,
   "id": "cb5da1ef",
   "metadata": {},
   "outputs": [],
   "source": [
    "df = pd.read_csv('AB_Test_Results.csv')"
   ]
  },
  {
   "cell_type": "code",
   "execution_count": 222,
   "id": "69defa3b",
   "metadata": {},
   "outputs": [
    {
     "data": {
      "text/html": [
       "<div>\n",
       "<style scoped>\n",
       "    .dataframe tbody tr th:only-of-type {\n",
       "        vertical-align: middle;\n",
       "    }\n",
       "\n",
       "    .dataframe tbody tr th {\n",
       "        vertical-align: top;\n",
       "    }\n",
       "\n",
       "    .dataframe thead th {\n",
       "        text-align: right;\n",
       "    }\n",
       "</style>\n",
       "<table border=\"1\" class=\"dataframe\">\n",
       "  <thead>\n",
       "    <tr style=\"text-align: right;\">\n",
       "      <th></th>\n",
       "      <th>USER_ID</th>\n",
       "      <th>VARIANT_NAME</th>\n",
       "      <th>REVENUE</th>\n",
       "    </tr>\n",
       "  </thead>\n",
       "  <tbody>\n",
       "    <tr>\n",
       "      <th>0</th>\n",
       "      <td>737</td>\n",
       "      <td>variant</td>\n",
       "      <td>0.0</td>\n",
       "    </tr>\n",
       "    <tr>\n",
       "      <th>1</th>\n",
       "      <td>2423</td>\n",
       "      <td>control</td>\n",
       "      <td>0.0</td>\n",
       "    </tr>\n",
       "    <tr>\n",
       "      <th>2</th>\n",
       "      <td>9411</td>\n",
       "      <td>control</td>\n",
       "      <td>0.0</td>\n",
       "    </tr>\n",
       "    <tr>\n",
       "      <th>3</th>\n",
       "      <td>7311</td>\n",
       "      <td>control</td>\n",
       "      <td>0.0</td>\n",
       "    </tr>\n",
       "    <tr>\n",
       "      <th>4</th>\n",
       "      <td>6174</td>\n",
       "      <td>variant</td>\n",
       "      <td>0.0</td>\n",
       "    </tr>\n",
       "  </tbody>\n",
       "</table>\n",
       "</div>"
      ],
      "text/plain": [
       "   USER_ID VARIANT_NAME  REVENUE\n",
       "0      737      variant      0.0\n",
       "1     2423      control      0.0\n",
       "2     9411      control      0.0\n",
       "3     7311      control      0.0\n",
       "4     6174      variant      0.0"
      ]
     },
     "execution_count": 222,
     "metadata": {},
     "output_type": "execute_result"
    }
   ],
   "source": [
    "df.head()"
   ]
  },
  {
   "cell_type": "code",
   "execution_count": 223,
   "id": "faabe25b",
   "metadata": {},
   "outputs": [
    {
     "name": "stdout",
     "output_type": "stream",
     "text": [
      "Shape of DataFrame: (10000, 3)\n"
     ]
    }
   ],
   "source": [
    "print(f'Shape of DataFrame: {df.shape}')"
   ]
  },
  {
   "cell_type": "code",
   "execution_count": 224,
   "id": "98955392",
   "metadata": {},
   "outputs": [
    {
     "name": "stdout",
     "output_type": "stream",
     "text": [
      "<class 'pandas.core.frame.DataFrame'>\n",
      "RangeIndex: 10000 entries, 0 to 9999\n",
      "Data columns (total 3 columns):\n",
      " #   Column        Non-Null Count  Dtype  \n",
      "---  ------        --------------  -----  \n",
      " 0   USER_ID       10000 non-null  int64  \n",
      " 1   VARIANT_NAME  10000 non-null  object \n",
      " 2   REVENUE       10000 non-null  float64\n",
      "dtypes: float64(1), int64(1), object(1)\n",
      "memory usage: 234.5+ KB\n"
     ]
    }
   ],
   "source": [
    "df.info()"
   ]
  },
  {
   "cell_type": "code",
   "execution_count": 225,
   "id": "3a4dffaf",
   "metadata": {},
   "outputs": [
    {
     "data": {
      "text/plain": [
       "USER_ID         0\n",
       "VARIANT_NAME    0\n",
       "REVENUE         0\n",
       "dtype: int64"
      ]
     },
     "execution_count": 225,
     "metadata": {},
     "output_type": "execute_result"
    }
   ],
   "source": [
    "df.isnull().sum()"
   ]
  },
  {
   "cell_type": "code",
   "execution_count": 226,
   "id": "cf16a145",
   "metadata": {},
   "outputs": [
    {
     "data": {
      "text/plain": [
       "2067"
      ]
     },
     "execution_count": 226,
     "metadata": {},
     "output_type": "execute_result"
    }
   ],
   "source": [
    "df.duplicated().sum()"
   ]
  },
  {
   "cell_type": "code",
   "execution_count": 227,
   "id": "7fa710ba",
   "metadata": {},
   "outputs": [],
   "source": [
    "df.REVENUE = df.REVENUE.astype('int')"
   ]
  },
  {
   "cell_type": "code",
   "execution_count": 228,
   "id": "c6c2d61d",
   "metadata": {},
   "outputs": [],
   "source": [
    "df = df.drop_duplicates()"
   ]
  },
  {
   "cell_type": "code",
   "execution_count": 229,
   "id": "390bd8cc",
   "metadata": {},
   "outputs": [
    {
     "data": {
      "text/html": [
       "<div>\n",
       "<style scoped>\n",
       "    .dataframe tbody tr th:only-of-type {\n",
       "        vertical-align: middle;\n",
       "    }\n",
       "\n",
       "    .dataframe tbody tr th {\n",
       "        vertical-align: top;\n",
       "    }\n",
       "\n",
       "    .dataframe thead th {\n",
       "        text-align: right;\n",
       "    }\n",
       "</style>\n",
       "<table border=\"1\" class=\"dataframe\">\n",
       "  <thead>\n",
       "    <tr style=\"text-align: right;\">\n",
       "      <th></th>\n",
       "      <th>REVENUE</th>\n",
       "      <th>VARIANT_NAME</th>\n",
       "    </tr>\n",
       "    <tr>\n",
       "      <th>VARIANT_NAME</th>\n",
       "      <th></th>\n",
       "      <th></th>\n",
       "    </tr>\n",
       "  </thead>\n",
       "  <tbody>\n",
       "    <tr>\n",
       "      <th>control</th>\n",
       "      <td>609</td>\n",
       "      <td>3968</td>\n",
       "    </tr>\n",
       "    <tr>\n",
       "      <th>variant</th>\n",
       "      <td>321</td>\n",
       "      <td>3958</td>\n",
       "    </tr>\n",
       "  </tbody>\n",
       "</table>\n",
       "</div>"
      ],
      "text/plain": [
       "              REVENUE  VARIANT_NAME\n",
       "VARIANT_NAME                       \n",
       "control           609          3968\n",
       "variant           321          3958"
      ]
     },
     "execution_count": 229,
     "metadata": {},
     "output_type": "execute_result"
    }
   ],
   "source": [
    "df.groupby([df.VARIANT_NAME]).agg({'REVENUE': 'sum', 'VARIANT_NAME': 'count'})"
   ]
  },
  {
   "cell_type": "code",
   "execution_count": 230,
   "id": "d2437b65",
   "metadata": {},
   "outputs": [],
   "source": [
    "data = [3968, 3958]\n",
    "labels = ['control', 'variant']\n",
    "colors = sns.color_palette('bright')[ 0:5]"
   ]
  },
  {
   "cell_type": "code",
   "execution_count": 231,
   "id": "817a6c2d",
   "metadata": {},
   "outputs": [
    {
     "data": {
      "text/plain": [
       "([<matplotlib.patches.Wedge at 0x28c4f5d80>,\n",
       "  <matplotlib.patches.Wedge at 0x28c4f63e0>],\n",
       " [Text(-0.0021800788859088877, 1.09999783965972, 'control'),\n",
       "  Text(0.0021801818751389485, -1.0999978394556016, 'variant')],\n",
       " [Text(-0.001189133937768484, 0.5999988216325746, '50%'),\n",
       "  Text(0.0011891901137121538, -0.5999988215212372, '50%')])"
      ]
     },
     "execution_count": 231,
     "metadata": {},
     "output_type": "execute_result"
    },
    {
     "data": {
      "image/png": "[encoded data removed]",
      "text/plain": [
       "<Figure size 504x360 with 1 Axes>"
      ]
     },
     "metadata": {},
     "output_type": "display_data"
    }
   ],
   "source": [
    "plt.pie(data, labels = labels, colors=colors, autopct='%.0f%%')"
   ]
  },
  {
   "cell_type": "markdown",
   "id": "f59cc472",
   "metadata": {},
   "source": [
    "H0: there is no difference in mean between groups by group\n",
    "\n",
    "H1: there is difference in mean between groups by group"
   ]
  },
  {
   "cell_type": "code",
   "execution_count": 232,
   "id": "6dc8e11f",
   "metadata": {},
   "outputs": [
    {
     "data": {
      "image/png": "[encoded data removed]",
      "text/plain": [
       "<Figure size 504x360 with 1 Axes>"
      ]
     },
     "metadata": {},
     "output_type": "display_data"
    }
   ],
   "source": [
    "sns.boxplot(x = \"VARIANT_NAME\", y = \"REVENUE\", data = df);"
   ]
  },
  {
   "cell_type": "code",
   "execution_count": 233,
   "id": "e8cbb8a6",
   "metadata": {},
   "outputs": [
    {
     "data": {
      "text/html": [
       "<div>\n",
       "<style scoped>\n",
       "    .dataframe tbody tr th:only-of-type {\n",
       "        vertical-align: middle;\n",
       "    }\n",
       "\n",
       "    .dataframe tbody tr th {\n",
       "        vertical-align: top;\n",
       "    }\n",
       "\n",
       "    .dataframe thead th {\n",
       "        text-align: right;\n",
       "    }\n",
       "</style>\n",
       "<table border=\"1\" class=\"dataframe\">\n",
       "  <thead>\n",
       "    <tr style=\"text-align: right;\">\n",
       "      <th></th>\n",
       "      <th>USER_ID</th>\n",
       "      <th>VARIANT_NAME</th>\n",
       "      <th>REVENUE</th>\n",
       "    </tr>\n",
       "  </thead>\n",
       "  <tbody>\n",
       "    <tr>\n",
       "      <th>1437</th>\n",
       "      <td>3342</td>\n",
       "      <td>control</td>\n",
       "      <td>196</td>\n",
       "    </tr>\n",
       "  </tbody>\n",
       "</table>\n",
       "</div>"
      ],
      "text/plain": [
       "      USER_ID VARIANT_NAME  REVENUE\n",
       "1437     3342      control      196"
      ]
     },
     "execution_count": 233,
     "metadata": {},
     "output_type": "execute_result"
    }
   ],
   "source": [
    "df[df.REVENUE > 150]"
   ]
  },
  {
   "cell_type": "code",
   "execution_count": 234,
   "id": "2ea4d2d7",
   "metadata": {},
   "outputs": [],
   "source": [
    "df = df[df.REVENUE < 150]"
   ]
  },
  {
   "cell_type": "code",
   "execution_count": 235,
   "id": "13ca6923",
   "metadata": {},
   "outputs": [
    {
     "data": {
      "image/png": "[encoded data removed]",
      "text/plain": [
       "<Figure size 504x360 with 1 Axes>"
      ]
     },
     "metadata": {},
     "output_type": "display_data"
    }
   ],
   "source": [
    "sns.boxplot(x = \"VARIANT_NAME\", y = \"REVENUE\", palette='dark', data = df);"
   ]
  },
  {
   "cell_type": "code",
   "execution_count": 237,
   "id": "aedd7931",
   "metadata": {},
   "outputs": [
    {
     "name": "stderr",
     "output_type": "stream",
     "text": [
      "/var/folders/fg/cqky7zt5763738spc5v523xw0000gn/T/ipykernel_2594/1609546194.py:2: UserWarning: Boolean Series key will be reindexed to match DataFrame index.\n",
      "  df_control[df.REVENUE > 0].count()\n"
     ]
    },
    {
     "data": {
      "text/plain": [
       "USER_ID         70\n",
       "VARIANT_NAME    70\n",
       "REVENUE         70\n",
       "dtype: int64"
      ]
     },
     "execution_count": 237,
     "metadata": {},
     "output_type": "execute_result"
    }
   ],
   "source": [
    "df_control = df[df.VARIANT_NAME == 'control']\n",
    "df_control[df.REVENUE > 0].count()"
   ]
  },
  {
   "cell_type": "code",
   "execution_count": 238,
   "id": "672e29ca",
   "metadata": {},
   "outputs": [
    {
     "name": "stderr",
     "output_type": "stream",
     "text": [
      "/var/folders/fg/cqky7zt5763738spc5v523xw0000gn/T/ipykernel_2594/3029805237.py:2: UserWarning: Boolean Series key will be reindexed to match DataFrame index.\n",
      "  df_variant[df.REVENUE > 0].count()\n"
     ]
    },
    {
     "data": {
      "text/plain": [
       "USER_ID         61\n",
       "VARIANT_NAME    61\n",
       "REVENUE         61\n",
       "dtype: int64"
      ]
     },
     "execution_count": 238,
     "metadata": {},
     "output_type": "execute_result"
    }
   ],
   "source": [
    "df_variant = df[df.VARIANT_NAME == 'variant']\n",
    "df_variant[df.REVENUE > 0].count()"
   ]
  },
  {
   "cell_type": "code",
   "execution_count": 239,
   "id": "430b89b6",
   "metadata": {},
   "outputs": [
    {
     "data": {
      "text/html": [
       "<div>\n",
       "<style scoped>\n",
       "    .dataframe tbody tr th:only-of-type {\n",
       "        vertical-align: middle;\n",
       "    }\n",
       "\n",
       "    .dataframe tbody tr th {\n",
       "        vertical-align: top;\n",
       "    }\n",
       "\n",
       "    .dataframe thead th {\n",
       "        text-align: right;\n",
       "    }\n",
       "</style>\n",
       "<table border=\"1\" class=\"dataframe\">\n",
       "  <thead>\n",
       "    <tr style=\"text-align: right;\">\n",
       "      <th></th>\n",
       "      <th>REVENUE</th>\n",
       "      <th>VARIANT_NAME</th>\n",
       "    </tr>\n",
       "    <tr>\n",
       "      <th>VARIANT_NAME</th>\n",
       "      <th></th>\n",
       "      <th></th>\n",
       "    </tr>\n",
       "  </thead>\n",
       "  <tbody>\n",
       "    <tr>\n",
       "      <th>control</th>\n",
       "      <td>413</td>\n",
       "      <td>3967</td>\n",
       "    </tr>\n",
       "    <tr>\n",
       "      <th>variant</th>\n",
       "      <td>321</td>\n",
       "      <td>3958</td>\n",
       "    </tr>\n",
       "  </tbody>\n",
       "</table>\n",
       "</div>"
      ],
      "text/plain": [
       "              REVENUE  VARIANT_NAME\n",
       "VARIANT_NAME                       \n",
       "control           413          3967\n",
       "variant           321          3958"
      ]
     },
     "execution_count": 239,
     "metadata": {},
     "output_type": "execute_result"
    }
   ],
   "source": [
    "df.groupby([df.VARIANT_NAME]).agg({'REVENUE': 'sum', 'VARIANT_NAME': 'count'})"
   ]
  },
  {
   "cell_type": "code",
   "execution_count": 240,
   "id": "58e599ec",
   "metadata": {},
   "outputs": [],
   "source": [
    "ab_info = [[70, 61], [3967, 3958]]\n",
    "stat, p, dof, expected = stats.chi2_contingency(ab_info)\n",
    "prob = 0.95\n",
    "alpha = 0.05"
   ]
  },
  {
   "cell_type": "code",
   "execution_count": 241,
   "id": "4a10caaa",
   "metadata": {},
   "outputs": [],
   "source": [
    "from scipy.stats import mannwhitneyu"
   ]
  },
  {
   "cell_type": "code",
   "execution_count": 242,
   "id": "270b292f",
   "metadata": {},
   "outputs": [
    {
     "name": "stdout",
     "output_type": "stream",
     "text": [
      " p_value is : 0.42718439326480373\n",
      " Reject Null H0\n"
     ]
    }
   ],
   "source": [
    "test_stat, p_value = mannwhitneyu(df.loc[df[\"VARIANT_NAME\"] == \"control\", \"REVENUE\"],\n",
    "                                 df.loc[df[\"VARIANT_NAME\"] == \"variant\", \"REVENUE\"])\n",
    "print(\" p_value is : \" + str(p_value))\n",
    "if p_value <= alpha:\n",
    "    print(' Accept Null H0')\n",
    "else:\n",
    "    print(' Reject Null H0')"
   ]
  },
  {
   "cell_type": "code",
   "execution_count": 243,
   "id": "e693b8ea",
   "metadata": {},
   "outputs": [
    {
     "name": "stdout",
     "output_type": "stream",
     "text": [
      " p_value is : 0.48127171075637964\n",
      " Reject Null H0\n"
     ]
    }
   ],
   "source": [
    "odd_ratio, p_value = stats.fisher_exact(ab_info)\n",
    "print(\" p_value is : \" + str(p_value))\n",
    "if p_value <= alpha:\n",
    "    print(' Accept Null H0')\n",
    "else:\n",
    "    print(' Reject Null H0')"
   ]
  },
  {
   "cell_type": "code",
   "execution_count": 244,
   "id": "0bb15cd8",
   "metadata": {},
   "outputs": [
    {
     "name": "stdout",
     "output_type": "stream",
     "text": [
      " p_value: 0.4971795093504555\n",
      " degree of free: 1\n",
      " stat: 0.46095174538363215\n",
      "\n",
      " Reject Null H0\n"
     ]
    }
   ],
   "source": [
    "print(f' p_value: {p}\\n degree of free: {dof}\\n stat: {stat}\\n')\n",
    "if p <= alpha:\n",
    "    print(' Accept Null H0')\n",
    "else:\n",
    "    print(' Reject Null H0')"
   ]
  },
  {
   "cell_type": "markdown",
   "id": "e7a006c3",
   "metadata": {},
   "source": [
    "I took data from Kaggle pro ab testing. Conducted an exploratory analysis of the data, and then filtered the data, then made 2 hypotheses and conducted statistical tests. Based on the test results, I can conclude that there is a difference between the control and the variant. I would leave the control group because it performed better than the variant"
   ]
  }
 ],
 "metadata": {
  "kernelspec": {
   "display_name": "Python 3 (ipykernel)",
   "language": "python",
   "name": "python3"
  },
  "language_info": {
   "codemirror_mode": {
    "name": "ipython",
    "version": 3
   },
   "file_extension": ".py",
   "mimetype": "text/x-python",
   "name": "python",
   "nbconvert_exporter": "python",
   "pygments_lexer": "ipython3",
   "version": "3.10.4"
  }
 },
 "nbformat": 4,
 "nbformat_minor": 5
}
